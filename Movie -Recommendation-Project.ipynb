{
 "cells": [
  {
   "cell_type": "code",
   "execution_count": 1,
   "id": "5a6be83a",
   "metadata": {},
   "outputs": [],
   "source": [
    "import numpy as np\n",
    "import pandas as pd\n",
    "import matplotlib.pyplot as plt\n",
    "%matplotlib inline\n",
    "import seaborn as sns\n",
    "import ast"
   ]
  },
  {
   "cell_type": "code",
   "execution_count": 12,
   "id": "84f56fb6",
   "metadata": {},
   "outputs": [],
   "source": [
    "movies=pd.read_csv(\"C:\\\\Users\\\\Sathya Sai\\\\movie-recommender-system\\\\tmdb_5000_movies.csv\")\n",
    "credits=pd.read_csv(\"C:\\\\Users\\\\Sathya Sai\\\\movie-recommender-system\\\\tmdb_5000_credits.csv\")"
   ]
  },
  {
   "cell_type": "code",
   "execution_count": 3,
   "id": "1e86cf63",
   "metadata": {
    "scrolled": true
   },
   "outputs": [
    {
     "data": {
      "text/html": [
       "<div>\n",
       "<style scoped>\n",
       "    .dataframe tbody tr th:only-of-type {\n",
       "        vertical-align: middle;\n",
       "    }\n",
       "\n",
       "    .dataframe tbody tr th {\n",
       "        vertical-align: top;\n",
       "    }\n",
       "\n",
       "    .dataframe thead th {\n",
       "        text-align: right;\n",
       "    }\n",
       "</style>\n",
       "<table border=\"1\" class=\"dataframe\">\n",
       "  <thead>\n",
       "    <tr style=\"text-align: right;\">\n",
       "      <th></th>\n",
       "      <th>budget</th>\n",
       "      <th>genres</th>\n",
       "      <th>homepage</th>\n",
       "      <th>id</th>\n",
       "      <th>keywords</th>\n",
       "      <th>original_language</th>\n",
       "      <th>original_title</th>\n",
       "      <th>overview</th>\n",
       "      <th>popularity</th>\n",
       "      <th>production_companies</th>\n",
       "      <th>production_countries</th>\n",
       "      <th>release_date</th>\n",
       "      <th>revenue</th>\n",
       "      <th>runtime</th>\n",
       "      <th>spoken_languages</th>\n",
       "      <th>status</th>\n",
       "      <th>tagline</th>\n",
       "      <th>title</th>\n",
       "      <th>vote_average</th>\n",
       "      <th>vote_count</th>\n",
       "    </tr>\n",
       "  </thead>\n",
       "  <tbody>\n",
       "    <tr>\n",
       "      <th>2712</th>\n",
       "      <td>12000000</td>\n",
       "      <td>[{\"id\": 36, \"name\": \"History\"}, {\"id\": 28, \"na...</td>\n",
       "      <td>http://jianyu.ent.sina.com.cn/</td>\n",
       "      <td>44092</td>\n",
       "      <td>[{\"id\": 779, \"name\": \"martial arts\"}, {\"id\": 9...</td>\n",
       "      <td>zh</td>\n",
       "      <td>剑雨</td>\n",
       "      <td>Set in ancient China, Zeng Jing is a skilled a...</td>\n",
       "      <td>4.930129</td>\n",
       "      <td>[{\"name\": \"Lion Rock Productions\", \"id\": 2812}...</td>\n",
       "      <td>[{\"iso_3166_1\": \"CN\", \"name\": \"China\"}, {\"iso_...</td>\n",
       "      <td>2010-09-01</td>\n",
       "      <td>0</td>\n",
       "      <td>117.0</td>\n",
       "      <td>[{\"iso_639_1\": \"zh\", \"name\": \"\\u666e\\u901a\\u8b...</td>\n",
       "      <td>Released</td>\n",
       "      <td>NaN</td>\n",
       "      <td>Reign of Assassins</td>\n",
       "      <td>6.7</td>\n",
       "      <td>57</td>\n",
       "    </tr>\n",
       "    <tr>\n",
       "      <th>2996</th>\n",
       "      <td>10000000</td>\n",
       "      <td>[{\"id\": 28, \"name\": \"Action\"}, {\"id\": 12, \"nam...</td>\n",
       "      <td>NaN</td>\n",
       "      <td>10999</td>\n",
       "      <td>[{\"id\": 1930, \"name\": \"kidnapping\"}, {\"id\": 35...</td>\n",
       "      <td>en</td>\n",
       "      <td>Commando</td>\n",
       "      <td>John Matrix, the former leader of a special co...</td>\n",
       "      <td>34.224204</td>\n",
       "      <td>[{\"name\": \"Twentieth Century Fox Film Corporat...</td>\n",
       "      <td>[{\"iso_3166_1\": \"US\", \"name\": \"United States o...</td>\n",
       "      <td>1985-10-03</td>\n",
       "      <td>57500000</td>\n",
       "      <td>90.0</td>\n",
       "      <td>[{\"iso_639_1\": \"en\", \"name\": \"English\"}]</td>\n",
       "      <td>Released</td>\n",
       "      <td>Somewhere... somehow... someone's going to pay.</td>\n",
       "      <td>Commando</td>\n",
       "      <td>6.4</td>\n",
       "      <td>742</td>\n",
       "    </tr>\n",
       "    <tr>\n",
       "      <th>868</th>\n",
       "      <td>57000000</td>\n",
       "      <td>[{\"id\": 35, \"name\": \"Comedy\"}, {\"id\": 18, \"nam...</td>\n",
       "      <td>NaN</td>\n",
       "      <td>9621</td>\n",
       "      <td>[{\"id\": 236, \"name\": \"suicide\"}, {\"id\": 922, \"...</td>\n",
       "      <td>en</td>\n",
       "      <td>Elizabethtown</td>\n",
       "      <td>Drew Baylor is fired after causing his shoe co...</td>\n",
       "      <td>22.894898</td>\n",
       "      <td>[{\"name\": \"Paramount Pictures\", \"id\": 4}, {\"na...</td>\n",
       "      <td>[{\"iso_3166_1\": \"US\", \"name\": \"United States o...</td>\n",
       "      <td>2005-10-06</td>\n",
       "      <td>52034889</td>\n",
       "      <td>123.0</td>\n",
       "      <td>[{\"iso_639_1\": \"en\", \"name\": \"English\"}]</td>\n",
       "      <td>Released</td>\n",
       "      <td>It's a heck of a place to find yourself</td>\n",
       "      <td>Elizabethtown</td>\n",
       "      <td>6.1</td>\n",
       "      <td>327</td>\n",
       "    </tr>\n",
       "  </tbody>\n",
       "</table>\n",
       "</div>"
      ],
      "text/plain": [
       "        budget                                             genres  \\\n",
       "2712  12000000  [{\"id\": 36, \"name\": \"History\"}, {\"id\": 28, \"na...   \n",
       "2996  10000000  [{\"id\": 28, \"name\": \"Action\"}, {\"id\": 12, \"nam...   \n",
       "868   57000000  [{\"id\": 35, \"name\": \"Comedy\"}, {\"id\": 18, \"nam...   \n",
       "\n",
       "                            homepage     id  \\\n",
       "2712  http://jianyu.ent.sina.com.cn/  44092   \n",
       "2996                             NaN  10999   \n",
       "868                              NaN   9621   \n",
       "\n",
       "                                               keywords original_language  \\\n",
       "2712  [{\"id\": 779, \"name\": \"martial arts\"}, {\"id\": 9...                zh   \n",
       "2996  [{\"id\": 1930, \"name\": \"kidnapping\"}, {\"id\": 35...                en   \n",
       "868   [{\"id\": 236, \"name\": \"suicide\"}, {\"id\": 922, \"...                en   \n",
       "\n",
       "     original_title                                           overview  \\\n",
       "2712             剑雨  Set in ancient China, Zeng Jing is a skilled a...   \n",
       "2996       Commando  John Matrix, the former leader of a special co...   \n",
       "868   Elizabethtown  Drew Baylor is fired after causing his shoe co...   \n",
       "\n",
       "      popularity                               production_companies  \\\n",
       "2712    4.930129  [{\"name\": \"Lion Rock Productions\", \"id\": 2812}...   \n",
       "2996   34.224204  [{\"name\": \"Twentieth Century Fox Film Corporat...   \n",
       "868    22.894898  [{\"name\": \"Paramount Pictures\", \"id\": 4}, {\"na...   \n",
       "\n",
       "                                   production_countries release_date  \\\n",
       "2712  [{\"iso_3166_1\": \"CN\", \"name\": \"China\"}, {\"iso_...   2010-09-01   \n",
       "2996  [{\"iso_3166_1\": \"US\", \"name\": \"United States o...   1985-10-03   \n",
       "868   [{\"iso_3166_1\": \"US\", \"name\": \"United States o...   2005-10-06   \n",
       "\n",
       "       revenue  runtime                                   spoken_languages  \\\n",
       "2712         0    117.0  [{\"iso_639_1\": \"zh\", \"name\": \"\\u666e\\u901a\\u8b...   \n",
       "2996  57500000     90.0           [{\"iso_639_1\": \"en\", \"name\": \"English\"}]   \n",
       "868   52034889    123.0           [{\"iso_639_1\": \"en\", \"name\": \"English\"}]   \n",
       "\n",
       "        status                                          tagline  \\\n",
       "2712  Released                                              NaN   \n",
       "2996  Released  Somewhere... somehow... someone's going to pay.   \n",
       "868   Released          It's a heck of a place to find yourself   \n",
       "\n",
       "                   title  vote_average  vote_count  \n",
       "2712  Reign of Assassins           6.7          57  \n",
       "2996            Commando           6.4         742  \n",
       "868        Elizabethtown           6.1         327  "
      ]
     },
     "execution_count": 3,
     "metadata": {},
     "output_type": "execute_result"
    }
   ],
   "source": [
    "movies.sample(n=3)"
   ]
  },
  {
   "cell_type": "code",
   "execution_count": 4,
   "id": "caed6542",
   "metadata": {
    "scrolled": true
   },
   "outputs": [
    {
     "data": {
      "text/html": [
       "<div>\n",
       "<style scoped>\n",
       "    .dataframe tbody tr th:only-of-type {\n",
       "        vertical-align: middle;\n",
       "    }\n",
       "\n",
       "    .dataframe tbody tr th {\n",
       "        vertical-align: top;\n",
       "    }\n",
       "\n",
       "    .dataframe thead th {\n",
       "        text-align: right;\n",
       "    }\n",
       "</style>\n",
       "<table border=\"1\" class=\"dataframe\">\n",
       "  <thead>\n",
       "    <tr style=\"text-align: right;\">\n",
       "      <th></th>\n",
       "      <th>movie_id</th>\n",
       "      <th>title</th>\n",
       "      <th>cast</th>\n",
       "      <th>crew</th>\n",
       "    </tr>\n",
       "  </thead>\n",
       "  <tbody>\n",
       "    <tr>\n",
       "      <th>2173</th>\n",
       "      <td>13159</td>\n",
       "      <td>Georgia Rule</td>\n",
       "      <td>[{\"cast_id\": 1, \"character\": \"Georgia Randall\"...</td>\n",
       "      <td>[{\"credit_id\": \"52fe45479251416c75050ff9\", \"de...</td>\n",
       "    </tr>\n",
       "    <tr>\n",
       "      <th>2508</th>\n",
       "      <td>2110</td>\n",
       "      <td>Wasabi</td>\n",
       "      <td>[{\"cast_id\": 12, \"character\": \"Hubert Fiorenti...</td>\n",
       "      <td>[{\"credit_id\": \"52fe4337c3a36847f804300d\", \"de...</td>\n",
       "    </tr>\n",
       "    <tr>\n",
       "      <th>3840</th>\n",
       "      <td>22007</td>\n",
       "      <td>Train</td>\n",
       "      <td>[{\"cast_id\": 1, \"character\": \"Alex\", \"credit_i...</td>\n",
       "      <td>[{\"credit_id\": \"537f025cc3a3680592002ac4\", \"de...</td>\n",
       "    </tr>\n",
       "    <tr>\n",
       "      <th>2251</th>\n",
       "      <td>334531</td>\n",
       "      <td>My All American</td>\n",
       "      <td>[{\"cast_id\": 5, \"character\": \"Darrell Royal\", ...</td>\n",
       "      <td>[{\"credit_id\": \"5766ba79c3a36863130003eb\", \"de...</td>\n",
       "    </tr>\n",
       "    <tr>\n",
       "      <th>1969</th>\n",
       "      <td>2621</td>\n",
       "      <td>Return to Me</td>\n",
       "      <td>[{\"cast_id\": 3, \"character\": \"Bob Rueland\", \"c...</td>\n",
       "      <td>[{\"credit_id\": \"52fe4360c3a36847f804fb99\", \"de...</td>\n",
       "    </tr>\n",
       "  </tbody>\n",
       "</table>\n",
       "</div>"
      ],
      "text/plain": [
       "      movie_id            title  \\\n",
       "2173     13159     Georgia Rule   \n",
       "2508      2110           Wasabi   \n",
       "3840     22007            Train   \n",
       "2251    334531  My All American   \n",
       "1969      2621     Return to Me   \n",
       "\n",
       "                                                   cast  \\\n",
       "2173  [{\"cast_id\": 1, \"character\": \"Georgia Randall\"...   \n",
       "2508  [{\"cast_id\": 12, \"character\": \"Hubert Fiorenti...   \n",
       "3840  [{\"cast_id\": 1, \"character\": \"Alex\", \"credit_i...   \n",
       "2251  [{\"cast_id\": 5, \"character\": \"Darrell Royal\", ...   \n",
       "1969  [{\"cast_id\": 3, \"character\": \"Bob Rueland\", \"c...   \n",
       "\n",
       "                                                   crew  \n",
       "2173  [{\"credit_id\": \"52fe45479251416c75050ff9\", \"de...  \n",
       "2508  [{\"credit_id\": \"52fe4337c3a36847f804300d\", \"de...  \n",
       "3840  [{\"credit_id\": \"537f025cc3a3680592002ac4\", \"de...  \n",
       "2251  [{\"credit_id\": \"5766ba79c3a36863130003eb\", \"de...  \n",
       "1969  [{\"credit_id\": \"52fe4360c3a36847f804fb99\", \"de...  "
      ]
     },
     "execution_count": 4,
     "metadata": {},
     "output_type": "execute_result"
    }
   ],
   "source": [
    "credits.sample(n=5)"
   ]
  },
  {
   "cell_type": "code",
   "execution_count": 5,
   "id": "6a498216",
   "metadata": {},
   "outputs": [
    {
     "data": {
      "text/plain": [
       "(4803, 20)"
      ]
     },
     "execution_count": 5,
     "metadata": {},
     "output_type": "execute_result"
    }
   ],
   "source": [
    "movies.shape"
   ]
  },
  {
   "cell_type": "code",
   "execution_count": null,
   "id": "0b6a3f93",
   "metadata": {},
   "outputs": [],
   "source": []
  },
  {
   "cell_type": "code",
   "execution_count": 6,
   "id": "25b625e7",
   "metadata": {},
   "outputs": [
    {
     "data": {
      "text/plain": [
       "(4803, 4)"
      ]
     },
     "execution_count": 6,
     "metadata": {},
     "output_type": "execute_result"
    }
   ],
   "source": [
    "credits.shape"
   ]
  },
  {
   "cell_type": "code",
   "execution_count": 7,
   "id": "48da0e2a",
   "metadata": {},
   "outputs": [],
   "source": [
    "movies=movies.merge(credits,on='title',how='inner')"
   ]
  },
  {
   "cell_type": "code",
   "execution_count": 8,
   "id": "bfd66f37",
   "metadata": {},
   "outputs": [
    {
     "data": {
      "text/plain": [
       "(4809, 23)"
      ]
     },
     "execution_count": 8,
     "metadata": {},
     "output_type": "execute_result"
    }
   ],
   "source": [
    "movies.shape"
   ]
  },
  {
   "cell_type": "code",
   "execution_count": 9,
   "id": "5a5c9333",
   "metadata": {},
   "outputs": [
    {
     "data": {
      "text/html": [
       "<div>\n",
       "<style scoped>\n",
       "    .dataframe tbody tr th:only-of-type {\n",
       "        vertical-align: middle;\n",
       "    }\n",
       "\n",
       "    .dataframe tbody tr th {\n",
       "        vertical-align: top;\n",
       "    }\n",
       "\n",
       "    .dataframe thead th {\n",
       "        text-align: right;\n",
       "    }\n",
       "</style>\n",
       "<table border=\"1\" class=\"dataframe\">\n",
       "  <thead>\n",
       "    <tr style=\"text-align: right;\">\n",
       "      <th></th>\n",
       "      <th>budget</th>\n",
       "      <th>genres</th>\n",
       "      <th>homepage</th>\n",
       "      <th>id</th>\n",
       "      <th>keywords</th>\n",
       "      <th>original_language</th>\n",
       "      <th>original_title</th>\n",
       "      <th>overview</th>\n",
       "      <th>popularity</th>\n",
       "      <th>production_companies</th>\n",
       "      <th>...</th>\n",
       "      <th>runtime</th>\n",
       "      <th>spoken_languages</th>\n",
       "      <th>status</th>\n",
       "      <th>tagline</th>\n",
       "      <th>title</th>\n",
       "      <th>vote_average</th>\n",
       "      <th>vote_count</th>\n",
       "      <th>movie_id</th>\n",
       "      <th>cast</th>\n",
       "      <th>crew</th>\n",
       "    </tr>\n",
       "  </thead>\n",
       "  <tbody>\n",
       "    <tr>\n",
       "      <th>4675</th>\n",
       "      <td>210000</td>\n",
       "      <td>[{\"id\": 12, \"name\": \"Adventure\"}, {\"id\": 27, \"...</td>\n",
       "      <td>NaN</td>\n",
       "      <td>35073</td>\n",
       "      <td>[{\"id\": 1299, \"name\": \"monster\"}, {\"id\": 1815,...</td>\n",
       "      <td>en</td>\n",
       "      <td>The Beast from 20,000 Fathoms</td>\n",
       "      <td>The Beast from 20,000 Fathoms is a 1953 scienc...</td>\n",
       "      <td>2.043661</td>\n",
       "      <td>[{\"name\": \"Jack Dietz Productions\", \"id\": 19558}]</td>\n",
       "      <td>...</td>\n",
       "      <td>80.0</td>\n",
       "      <td>[{\"iso_639_1\": \"en\", \"name\": \"English\"}, {\"iso...</td>\n",
       "      <td>Released</td>\n",
       "      <td>It's alive !</td>\n",
       "      <td>The Beast from 20,000 Fathoms</td>\n",
       "      <td>6.7</td>\n",
       "      <td>41</td>\n",
       "      <td>35073</td>\n",
       "      <td>[{\"cast_id\": 1, \"character\": \"Professor Tom Ne...</td>\n",
       "      <td>[{\"credit_id\": \"56ceedb19251413e5c0021bb\", \"de...</td>\n",
       "    </tr>\n",
       "    <tr>\n",
       "      <th>3138</th>\n",
       "      <td>10000000</td>\n",
       "      <td>[{\"id\": 28, \"name\": \"Action\"}, {\"id\": 27, \"nam...</td>\n",
       "      <td>NaN</td>\n",
       "      <td>17577</td>\n",
       "      <td>[{\"id\": 187820, \"name\": \"duct tape gag\"}, {\"id...</td>\n",
       "      <td>en</td>\n",
       "      <td>The Devil's Tomb</td>\n",
       "      <td>Captain Mack leads an elite military unit on a...</td>\n",
       "      <td>5.099472</td>\n",
       "      <td>[{\"name\": \"Ice Cold Productions\", \"id\": 3336},...</td>\n",
       "      <td>...</td>\n",
       "      <td>90.0</td>\n",
       "      <td>[{\"iso_639_1\": \"en\", \"name\": \"English\"}]</td>\n",
       "      <td>Released</td>\n",
       "      <td>An evil entombed for 2000 years... until now.</td>\n",
       "      <td>The Devil's Tomb</td>\n",
       "      <td>4.0</td>\n",
       "      <td>53</td>\n",
       "      <td>17577</td>\n",
       "      <td>[{\"cast_id\": 1, \"character\": \"Mack\", \"credit_i...</td>\n",
       "      <td>[{\"credit_id\": \"54d4d9029251413fd6014680\", \"de...</td>\n",
       "    </tr>\n",
       "  </tbody>\n",
       "</table>\n",
       "<p>2 rows × 23 columns</p>\n",
       "</div>"
      ],
      "text/plain": [
       "        budget                                             genres homepage  \\\n",
       "4675    210000  [{\"id\": 12, \"name\": \"Adventure\"}, {\"id\": 27, \"...      NaN   \n",
       "3138  10000000  [{\"id\": 28, \"name\": \"Action\"}, {\"id\": 27, \"nam...      NaN   \n",
       "\n",
       "         id                                           keywords  \\\n",
       "4675  35073  [{\"id\": 1299, \"name\": \"monster\"}, {\"id\": 1815,...   \n",
       "3138  17577  [{\"id\": 187820, \"name\": \"duct tape gag\"}, {\"id...   \n",
       "\n",
       "     original_language                 original_title  \\\n",
       "4675                en  The Beast from 20,000 Fathoms   \n",
       "3138                en               The Devil's Tomb   \n",
       "\n",
       "                                               overview  popularity  \\\n",
       "4675  The Beast from 20,000 Fathoms is a 1953 scienc...    2.043661   \n",
       "3138  Captain Mack leads an elite military unit on a...    5.099472   \n",
       "\n",
       "                                   production_companies  ... runtime  \\\n",
       "4675  [{\"name\": \"Jack Dietz Productions\", \"id\": 19558}]  ...    80.0   \n",
       "3138  [{\"name\": \"Ice Cold Productions\", \"id\": 3336},...  ...    90.0   \n",
       "\n",
       "                                       spoken_languages    status  \\\n",
       "4675  [{\"iso_639_1\": \"en\", \"name\": \"English\"}, {\"iso...  Released   \n",
       "3138           [{\"iso_639_1\": \"en\", \"name\": \"English\"}]  Released   \n",
       "\n",
       "                                            tagline  \\\n",
       "4675                                   It's alive !   \n",
       "3138  An evil entombed for 2000 years... until now.   \n",
       "\n",
       "                              title vote_average vote_count movie_id  \\\n",
       "4675  The Beast from 20,000 Fathoms          6.7         41    35073   \n",
       "3138               The Devil's Tomb          4.0         53    17577   \n",
       "\n",
       "                                                   cast  \\\n",
       "4675  [{\"cast_id\": 1, \"character\": \"Professor Tom Ne...   \n",
       "3138  [{\"cast_id\": 1, \"character\": \"Mack\", \"credit_i...   \n",
       "\n",
       "                                                   crew  \n",
       "4675  [{\"credit_id\": \"56ceedb19251413e5c0021bb\", \"de...  \n",
       "3138  [{\"credit_id\": \"54d4d9029251413fd6014680\", \"de...  \n",
       "\n",
       "[2 rows x 23 columns]"
      ]
     },
     "execution_count": 9,
     "metadata": {},
     "output_type": "execute_result"
    }
   ],
   "source": [
    "movies.sample(n=2)"
   ]
  },
  {
   "cell_type": "code",
   "execution_count": 10,
   "id": "ae550fbd",
   "metadata": {},
   "outputs": [
    {
     "name": "stdout",
     "output_type": "stream",
     "text": [
      "<class 'pandas.core.frame.DataFrame'>\n",
      "Int64Index: 4809 entries, 0 to 4808\n",
      "Data columns (total 23 columns):\n",
      " #   Column                Non-Null Count  Dtype  \n",
      "---  ------                --------------  -----  \n",
      " 0   budget                4809 non-null   int64  \n",
      " 1   genres                4809 non-null   object \n",
      " 2   homepage              1713 non-null   object \n",
      " 3   id                    4809 non-null   int64  \n",
      " 4   keywords              4809 non-null   object \n",
      " 5   original_language     4809 non-null   object \n",
      " 6   original_title        4809 non-null   object \n",
      " 7   overview              4806 non-null   object \n",
      " 8   popularity            4809 non-null   float64\n",
      " 9   production_companies  4809 non-null   object \n",
      " 10  production_countries  4809 non-null   object \n",
      " 11  release_date          4808 non-null   object \n",
      " 12  revenue               4809 non-null   int64  \n",
      " 13  runtime               4807 non-null   float64\n",
      " 14  spoken_languages      4809 non-null   object \n",
      " 15  status                4809 non-null   object \n",
      " 16  tagline               3965 non-null   object \n",
      " 17  title                 4809 non-null   object \n",
      " 18  vote_average          4809 non-null   float64\n",
      " 19  vote_count            4809 non-null   int64  \n",
      " 20  movie_id              4809 non-null   int64  \n",
      " 21  cast                  4809 non-null   object \n",
      " 22  crew                  4809 non-null   object \n",
      "dtypes: float64(3), int64(5), object(15)\n",
      "memory usage: 901.7+ KB\n"
     ]
    }
   ],
   "source": [
    "movies.info()"
   ]
  },
  {
   "cell_type": "code",
   "execution_count": 13,
   "id": "d4bcb1d6",
   "metadata": {},
   "outputs": [
    {
     "data": {
      "text/plain": [
       "en    4505\n",
       "fr      70\n",
       "es      32\n",
       "zh      27\n",
       "de      27\n",
       "hi      19\n",
       "ja      16\n",
       "it      14\n",
       "cn      12\n",
       "ru      11\n",
       "ko      11\n",
       "pt       9\n",
       "da       7\n",
       "sv       5\n",
       "nl       4\n",
       "fa       4\n",
       "th       3\n",
       "he       3\n",
       "ta       2\n",
       "cs       2\n",
       "ro       2\n",
       "id       2\n",
       "ar       2\n",
       "vi       1\n",
       "sl       1\n",
       "ps       1\n",
       "no       1\n",
       "ky       1\n",
       "hu       1\n",
       "pl       1\n",
       "af       1\n",
       "nb       1\n",
       "tr       1\n",
       "is       1\n",
       "xx       1\n",
       "te       1\n",
       "el       1\n",
       "Name: original_language, dtype: int64"
      ]
     },
     "execution_count": 13,
     "metadata": {},
     "output_type": "execute_result"
    }
   ],
   "source": [
    "temp['original_language'].value_counts()"
   ]
  },
  {
   "cell_type": "markdown",
   "id": "439c6b39",
   "metadata": {},
   "source": [
    "LANGUAGES ARE HIGHLY IMBALANCE I.E., MOST OF THEM ARE ENGLISH THEREFORE THIS FEATURE DOESN'T ADD MUCH TO MODEL."
   ]
  },
  {
   "cell_type": "code",
   "execution_count": 14,
   "id": "3dbaa443",
   "metadata": {},
   "outputs": [],
   "source": [
    "movies=movies[['genres','original_title','id','overview','keywords','cast','crew',]]"
   ]
  },
  {
   "cell_type": "code",
   "execution_count": 15,
   "id": "95857437",
   "metadata": {
    "scrolled": true
   },
   "outputs": [
    {
     "data": {
      "text/html": [
       "<div>\n",
       "<style scoped>\n",
       "    .dataframe tbody tr th:only-of-type {\n",
       "        vertical-align: middle;\n",
       "    }\n",
       "\n",
       "    .dataframe tbody tr th {\n",
       "        vertical-align: top;\n",
       "    }\n",
       "\n",
       "    .dataframe thead th {\n",
       "        text-align: right;\n",
       "    }\n",
       "</style>\n",
       "<table border=\"1\" class=\"dataframe\">\n",
       "  <thead>\n",
       "    <tr style=\"text-align: right;\">\n",
       "      <th></th>\n",
       "      <th>genres</th>\n",
       "      <th>original_title</th>\n",
       "      <th>id</th>\n",
       "      <th>overview</th>\n",
       "      <th>keywords</th>\n",
       "      <th>cast</th>\n",
       "      <th>crew</th>\n",
       "    </tr>\n",
       "  </thead>\n",
       "  <tbody>\n",
       "    <tr>\n",
       "      <th>0</th>\n",
       "      <td>[{\"id\": 28, \"name\": \"Action\"}, {\"id\": 12, \"nam...</td>\n",
       "      <td>Avatar</td>\n",
       "      <td>19995</td>\n",
       "      <td>In the 22nd century, a paraplegic Marine is di...</td>\n",
       "      <td>[{\"id\": 1463, \"name\": \"culture clash\"}, {\"id\":...</td>\n",
       "      <td>[{\"cast_id\": 242, \"character\": \"Jake Sully\", \"...</td>\n",
       "      <td>[{\"credit_id\": \"52fe48009251416c750aca23\", \"de...</td>\n",
       "    </tr>\n",
       "  </tbody>\n",
       "</table>\n",
       "</div>"
      ],
      "text/plain": [
       "                                              genres original_title     id  \\\n",
       "0  [{\"id\": 28, \"name\": \"Action\"}, {\"id\": 12, \"nam...         Avatar  19995   \n",
       "\n",
       "                                            overview  \\\n",
       "0  In the 22nd century, a paraplegic Marine is di...   \n",
       "\n",
       "                                            keywords  \\\n",
       "0  [{\"id\": 1463, \"name\": \"culture clash\"}, {\"id\":...   \n",
       "\n",
       "                                                cast  \\\n",
       "0  [{\"cast_id\": 242, \"character\": \"Jake Sully\", \"...   \n",
       "\n",
       "                                                crew  \n",
       "0  [{\"credit_id\": \"52fe48009251416c750aca23\", \"de...  "
      ]
     },
     "execution_count": 15,
     "metadata": {},
     "output_type": "execute_result"
    }
   ],
   "source": [
    "movies.head(1)"
   ]
  },
  {
   "cell_type": "markdown",
   "id": "3bd3ad04",
   "metadata": {},
   "source": [
    "#CHECKING FOR MISSING VALUES"
   ]
  },
  {
   "cell_type": "code",
   "execution_count": 16,
   "id": "bcbfdf6a",
   "metadata": {},
   "outputs": [
    {
     "data": {
      "text/plain": [
       "genres            0\n",
       "original_title    0\n",
       "id                0\n",
       "overview          3\n",
       "keywords          0\n",
       "cast              0\n",
       "crew              0\n",
       "dtype: int64"
      ]
     },
     "execution_count": 16,
     "metadata": {},
     "output_type": "execute_result"
    }
   ],
   "source": [
    "movies.isna().sum()"
   ]
  },
  {
   "cell_type": "markdown",
   "id": "091eaf1a",
   "metadata": {},
   "source": [
    "AS THE MISSING PERCENTAGE IS VERY LOW I.E., DATA IS NOT MISSING AT RANDOM.THEREFORE REMOVING THOSE NAN VALUES. "
   ]
  },
  {
   "cell_type": "code",
   "execution_count": 17,
   "id": "2582bd87",
   "metadata": {},
   "outputs": [],
   "source": [
    "movies.dropna(inplace=True)"
   ]
  },
  {
   "cell_type": "code",
   "execution_count": 18,
   "id": "ba875d07",
   "metadata": {},
   "outputs": [
    {
     "data": {
      "text/plain": [
       "genres            0\n",
       "original_title    0\n",
       "id                0\n",
       "overview          0\n",
       "keywords          0\n",
       "cast              0\n",
       "crew              0\n",
       "dtype: int64"
      ]
     },
     "execution_count": 18,
     "metadata": {},
     "output_type": "execute_result"
    }
   ],
   "source": [
    "movies.isnull().sum()"
   ]
  },
  {
   "cell_type": "markdown",
   "id": "65ffc469",
   "metadata": {},
   "source": [
    "#CHECKING FOR DUPLICATED VALUES"
   ]
  },
  {
   "cell_type": "code",
   "execution_count": 19,
   "id": "b6a6726a",
   "metadata": {},
   "outputs": [
    {
     "data": {
      "text/plain": [
       "0"
      ]
     },
     "execution_count": 19,
     "metadata": {},
     "output_type": "execute_result"
    }
   ],
   "source": [
    "movies.duplicated().sum() # THERE ARE NO DUPLICATES"
   ]
  },
  {
   "cell_type": "markdown",
   "id": "823c74e8",
   "metadata": {},
   "source": [
    "# PREPROCESSING DATA"
   ]
  },
  {
   "cell_type": "code",
   "execution_count": 20,
   "id": "9723d19a",
   "metadata": {},
   "outputs": [
    {
     "data": {
      "text/plain": [
       "'[{\"id\": 28, \"name\": \"Action\"}, {\"id\": 12, \"name\": \"Adventure\"}, {\"id\": 14, \"name\": \"Fantasy\"}, {\"id\": 878, \"name\": \"Science Fiction\"}]'"
      ]
     },
     "execution_count": 20,
     "metadata": {},
     "output_type": "execute_result"
    }
   ],
   "source": [
    "movies.loc[0,\"genres\"] #list of dictionaries # processing genres"
   ]
  },
  {
   "cell_type": "code",
   "execution_count": 21,
   "id": "6b913df8",
   "metadata": {},
   "outputs": [
    {
     "data": {
      "text/plain": [
       "'[{\"id\": 1463, \"name\": \"culture clash\"}, {\"id\": 2964, \"name\": \"future\"}, {\"id\": 3386, \"name\": \"space war\"}, {\"id\": 3388, \"name\": \"space colony\"}, {\"id\": 3679, \"name\": \"society\"}, {\"id\": 3801, \"name\": \"space travel\"}, {\"id\": 9685, \"name\": \"futuristic\"}, {\"id\": 9840, \"name\": \"romance\"}, {\"id\": 9882, \"name\": \"space\"}, {\"id\": 9951, \"name\": \"alien\"}, {\"id\": 10148, \"name\": \"tribe\"}, {\"id\": 10158, \"name\": \"alien planet\"}, {\"id\": 10987, \"name\": \"cgi\"}, {\"id\": 11399, \"name\": \"marine\"}, {\"id\": 13065, \"name\": \"soldier\"}, {\"id\": 14643, \"name\": \"battle\"}, {\"id\": 14720, \"name\": \"love affair\"}, {\"id\": 165431, \"name\": \"anti war\"}, {\"id\": 193554, \"name\": \"power relations\"}, {\"id\": 206690, \"name\": \"mind and soul\"}, {\"id\": 209714, \"name\": \"3d\"}]'"
      ]
     },
     "execution_count": 21,
     "metadata": {},
     "output_type": "execute_result"
    }
   ],
   "source": [
    "movies.loc[0,'keywords'] # processing keywords"
   ]
  },
  {
   "cell_type": "code",
   "execution_count": 25,
   "id": "5c65fc08",
   "metadata": {},
   "outputs": [
    {
     "data": {
      "text/plain": [
       "['Brandon Routh', 'Kevin Spacey', 'Kate Bosworth']"
      ]
     },
     "execution_count": 25,
     "metadata": {},
     "output_type": "execute_result"
    }
   ],
   "source": [
    "castprocessor('[{\"cast_id\": 3, \"character\": \"Superman / Clark Kent\", \"credit_id\": \"52fe42f8c3a36847f8030b65\", \"gender\": 2, \"id\": 17271, \"name\": \"Brandon Routh\", \"order\": 0}, {\"cast_id\": 1, \"character\": \"Lex Luthor\", \"credit_id\": \"52fe42f8c3a36847f8030b61\", \"gender\": 2, \"id\": 1979, \"name\": \"Kevin Spacey\", \"order\": 1}, {\"cast_id\": 4, \"character\": \"Lois Lane\", \"credit_id\": \"52fe42f8c3a36847f8030b69\", \"gender\": 1, \"id\": 7517, \"name\": \"Kate Bosworth\", \"order\": 2}, {\"cast_id\": 10, \"character\": \"Richard White\", \"credit_id\": \"52fe42f8c3a36847f8030b8b\", \"gender\": 2, \"id\": 11006, \"name\": \"James Marsden\", \"order\": 3}, {\"cast_id\": 11, \"character\": \"Kitty Kowalski\", \"credit_id\": \"52fe42f8c3a36847f8030b8f\", \"gender\": 1, \"id\": 7489, \"name\": \"Parker Posey\", \"order\": 4}, {\"cast_id\": 12, \"character\": \"Perry White\", \"credit_id\": \"52fe42f8c3a36847f8030b93\", \"gender\": 2, \"id\": 8924, \"name\": \"Frank Langella\", \"order\": 5}, {\"cast_id\": 13, \"character\": \"Jimmy Olsen\", \"credit_id\": \"52fe42f8c3a36847f8030b97\", \"gender\": 0, \"id\": 53492, \"name\": \"Sam Huntington\", \"order\": 6}, {\"cast_id\": 14, \"character\": \"Martha Kent\", \"credit_id\": \"52fe42f8c3a36847f8030b9b\", \"gender\": 1, \"id\": 2639, \"name\": \"Eva Marie Saint\", \"order\": 7}, {\"cast_id\": 15, \"character\": \"Jor-El\", \"credit_id\": \"52fe42f8c3a36847f8030b9f\", \"gender\": 2, \"id\": 3084, \"name\": \"Marlon Brando\", \"order\": 8}, {\"cast_id\": 16, \"character\": \"Stanford\", \"credit_id\": \"52fe42f8c3a36847f8030ba3\", \"gender\": 2, \"id\": 53493, \"name\": \"Kal Penn\", \"order\": 9}, {\"cast_id\": 17, \"character\": \"Jason White\", \"credit_id\": \"52fe42f8c3a36847f8030ba7\", \"gender\": 2, \"id\": 53494, \"name\": \"Tristan Lake Leabu\", \"order\": 10}, {\"cast_id\": 18, \"character\": \"Brutus\", \"credit_id\": \"52fe42f8c3a36847f8030bab\", \"gender\": 2, \"id\": 41318, \"name\": \"David Fabrizio\", \"order\": 11}, {\"cast_id\": 21, \"character\": \"Riley\", \"credit_id\": \"52fe42f8c3a36847f8030bb5\", \"gender\": 0, \"id\": 1224391, \"name\": \"Ian Roberts\", \"order\": 12}, {\"cast_id\": 22, \"character\": \"Grant\", \"credit_id\": \"530d2dea92514114240017c6\", \"gender\": 0, \"id\": 1272955, \"name\": \"Vincent Stone\", \"order\": 13}, {\"cast_id\": 24, \"character\": \"Bo the Bartender\", \"credit_id\": \"530d2e7c925141142e00176d\", \"gender\": 2, \"id\": 193763, \"name\": \"Jack Larson\", \"order\": 15}, {\"cast_id\": 25, \"character\": \"Gertrude Vanderworth\", \"credit_id\": \"552e6249c3a36875010038d9\", \"gender\": 1, \"id\": 243805, \"name\": \"Noel Neill\", \"order\": 16}, {\"cast_id\": 44, \"character\": \"Boy with Camera\", \"credit_id\": \"55662d65c3a3685e0a000092\", \"gender\": 2, \"id\": 1252837, \"name\": \"Keegan Joyce\", \"order\": 17}, {\"cast_id\": 45, \"character\": \"Little Girl\", \"credit_id\": \"58b8865d9251415f9500215c\", \"gender\": 1, \"id\": 971458, \"name\": \"Jordana Beatty\", \"order\": 18}]')"
   ]
  },
  {
   "cell_type": "code",
   "execution_count": 21,
   "id": "c34387f2",
   "metadata": {},
   "outputs": [
    {
     "data": {
      "text/plain": [
       "'[{\"credit_id\": \"52fe48009251416c750aca23\", \"department\": \"Editing\", \"gender\": 0, \"id\": 1721, \"job\": \"Editor\", \"name\": \"Stephen E. Rivkin\"}, {\"credit_id\": \"539c47ecc3a36810e3001f87\", \"department\": \"Art\", \"gender\": 2, \"id\": 496, \"job\": \"Production Design\", \"name\": \"Rick Carter\"}, {\"credit_id\": \"54491c89c3a3680fb4001cf7\", \"department\": \"Sound\", \"gender\": 0, \"id\": 900, \"job\": \"Sound Designer\", \"name\": \"Christopher Boyes\"}, {\"credit_id\": \"54491cb70e0a267480001bd0\", \"department\": \"Sound\", \"gender\": 0, \"id\": 900, \"job\": \"Supervising Sound Editor\", \"name\": \"Christopher Boyes\"}, {\"credit_id\": \"539c4a4cc3a36810c9002101\", \"department\": \"Production\", \"gender\": 1, \"id\": 1262, \"job\": \"Casting\", \"name\": \"Mali Finn\"}, {\"credit_id\": \"5544ee3b925141499f0008fc\", \"department\": \"Sound\", \"gender\": 2, \"id\": 1729, \"job\": \"Original Music Composer\", \"name\": \"James Horner\"}, {\"credit_id\": \"52fe48009251416c750ac9c3\", \"department\": \"Directing\", \"gender\": 2, \"id\": 2710, \"job\": \"Director\", \"name\": \"James Cameron\"}, {\"credit_id\": \"52fe48009251416c750ac9d9\", \"department\": \"Writing\", \"gender\": 2, \"id\": 2710, \"job\": \"Writer\", \"name\": \"James Cameron\"}, {\"credit_id\": \"52fe48009251416c750aca17\", \"department\": \"Editing\", \"gender\": 2, \"id\": 2710, \"job\": \"Editor\", \"name\": \"James Cameron\"}, {\"credit_id\": \"52fe48009251416c750aca29\", \"department\": \"Production\", \"gender\": 2, \"id\": 2710, \"job\": \"Producer\", \"name\": \"James Cameron\"}, {\"credit_id\": \"52fe48009251416c750aca3f\", \"department\": \"Writing\", \"gender\": 2, \"id\": 2710, \"job\": \"Screenplay\", \"name\": \"James Cameron\"}, {\"credit_id\": \"539c4987c3a36810ba0021a4\", \"department\": \"Art\", \"gender\": 2, \"id\": 7236, \"job\": \"Art Direction\", \"name\": \"Andrew Menzies\"}, {\"credit_id\": \"549598c3c3a3686ae9004383\", \"department\": \"Visual Effects\", \"gender\": 0, \"id\": 6690, \"job\": \"Visual Effects Producer\", \"name\": \"Jill Brooks\"}, {\"credit_id\": \"52fe48009251416c750aca4b\", \"department\": \"Production\", \"gender\": 1, \"id\": 6347, \"job\": \"Casting\", \"name\": \"Margery Simkin\"}, {\"credit_id\": \"570b6f419251417da70032fe\", \"department\": \"Art\", \"gender\": 2, \"id\": 6878, \"job\": \"Supervising Art Director\", \"name\": \"Kevin Ishioka\"}, {\"credit_id\": \"5495a0fac3a3686ae9004468\", \"department\": \"Sound\", \"gender\": 0, \"id\": 6883, \"job\": \"Music Editor\", \"name\": \"Dick Bernstein\"}, {\"credit_id\": \"54959706c3a3686af3003e81\", \"department\": \"Sound\", \"gender\": 0, \"id\": 8159, \"job\": \"Sound Effects Editor\", \"name\": \"Shannon Mills\"}, {\"credit_id\": \"54491d58c3a3680fb1001ccb\", \"department\": \"Sound\", \"gender\": 0, \"id\": 8160, \"job\": \"Foley\", \"name\": \"Dennie Thorpe\"}, {\"credit_id\": \"54491d6cc3a3680fa5001b2c\", \"department\": \"Sound\", \"gender\": 0, \"id\": 8163, \"job\": \"Foley\", \"name\": \"Jana Vance\"}, {\"credit_id\": \"52fe48009251416c750aca57\", \"department\": \"Costume & Make-Up\", \"gender\": 1, \"id\": 8527, \"job\": \"Costume Design\", \"name\": \"Deborah Lynn Scott\"}, {\"credit_id\": \"52fe48009251416c750aca2f\", \"department\": \"Production\", \"gender\": 2, \"id\": 8529, \"job\": \"Producer\", \"name\": \"Jon Landau\"}, {\"credit_id\": \"539c4937c3a36810ba002194\", \"department\": \"Art\", \"gender\": 0, \"id\": 9618, \"job\": \"Art Direction\", \"name\": \"Sean Haworth\"}, {\"credit_id\": \"539c49b6c3a36810c10020e6\", \"department\": \"Art\", \"gender\": 1, \"id\": 12653, \"job\": \"Set Decoration\", \"name\": \"Kim Sinclair\"}, {\"credit_id\": \"570b6f2f9251413a0e00020d\", \"department\": \"Art\", \"gender\": 1, \"id\": 12653, \"job\": \"Supervising Art Director\", \"name\": \"Kim Sinclair\"}, {\"credit_id\": \"54491a6c0e0a26748c001b19\", \"department\": \"Art\", \"gender\": 2, \"id\": 14350, \"job\": \"Set Designer\", \"name\": \"Richard F. Mays\"}, {\"credit_id\": \"56928cf4c3a3684cff0025c4\", \"department\": \"Production\", \"gender\": 1, \"id\": 20294, \"job\": \"Executive Producer\", \"name\": \"Laeta Kalogridis\"}, {\"credit_id\": \"52fe48009251416c750aca51\", \"department\": \"Costume & Make-Up\", \"gender\": 0, \"id\": 17675, \"job\": \"Costume Design\", \"name\": \"Mayes C. Rubeo\"}, {\"credit_id\": \"52fe48009251416c750aca11\", \"department\": \"Camera\", \"gender\": 2, \"id\": 18265, \"job\": \"Director of Photography\", \"name\": \"Mauro Fiore\"}, {\"credit_id\": \"5449194d0e0a26748f001b39\", \"department\": \"Art\", \"gender\": 0, \"id\": 42281, \"job\": \"Set Designer\", \"name\": \"Scott Herbertson\"}, {\"credit_id\": \"52fe48009251416c750aca05\", \"department\": \"Crew\", \"gender\": 0, \"id\": 42288, \"job\": \"Stunts\", \"name\": \"Woody Schultz\"}, {\"credit_id\": \"5592aefb92514152de0010f5\", \"department\": \"Costume & Make-Up\", \"gender\": 0, \"id\": 29067, \"job\": \"Makeup Artist\", \"name\": \"Linda DeVetta\"}, {\"credit_id\": \"5592afa492514152de00112c\", \"department\": \"Costume & Make-Up\", \"gender\": 0, \"id\": 29067, \"job\": \"Hairstylist\", \"name\": \"Linda DeVetta\"}, {\"credit_id\": \"54959ed592514130fc002e5d\", \"department\": \"Camera\", \"gender\": 2, \"id\": 33302, \"job\": \"Camera Operator\", \"name\": \"Richard Bluck\"}, {\"credit_id\": \"539c4891c3a36810ba002147\", \"department\": \"Art\", \"gender\": 2, \"id\": 33303, \"job\": \"Art Direction\", \"name\": \"Simon Bright\"}, {\"credit_id\": \"54959c069251417a81001f3a\", \"department\": \"Visual Effects\", \"gender\": 0, \"id\": 113145, \"job\": \"Visual Effects Supervisor\", \"name\": \"Richard Martin\"}, {\"credit_id\": \"54959a0dc3a3680ff5002c8d\", \"department\": \"Crew\", \"gender\": 2, \"id\": 58188, \"job\": \"Visual Effects Editor\", \"name\": \"Steve R. Moore\"}, {\"credit_id\": \"52fe48009251416c750aca1d\", \"department\": \"Editing\", \"gender\": 2, \"id\": 58871, \"job\": \"Editor\", \"name\": \"John Refoua\"}, {\"credit_id\": \"54491a4dc3a3680fc30018ca\", \"department\": \"Art\", \"gender\": 0, \"id\": 92359, \"job\": \"Set Designer\", \"name\": \"Karl J. Martin\"}, {\"credit_id\": \"52fe48009251416c750aca35\", \"department\": \"Camera\", \"gender\": 1, \"id\": 72201, \"job\": \"Director of Photography\", \"name\": \"Chiling Lin\"}, {\"credit_id\": \"52fe48009251416c750ac9ff\", \"department\": \"Crew\", \"gender\": 0, \"id\": 89714, \"job\": \"Stunts\", \"name\": \"Ilram Choi\"}, {\"credit_id\": \"54959c529251416e2b004394\", \"department\": \"Visual Effects\", \"gender\": 2, \"id\": 93214, \"job\": \"Visual Effects Supervisor\", \"name\": \"Steven Quale\"}, {\"credit_id\": \"54491edf0e0a267489001c37\", \"department\": \"Crew\", \"gender\": 1, \"id\": 122607, \"job\": \"Dialect Coach\", \"name\": \"Carla Meyer\"}, {\"credit_id\": \"539c485bc3a368653d001a3a\", \"department\": \"Art\", \"gender\": 2, \"id\": 132585, \"job\": \"Art Direction\", \"name\": \"Nick Bassett\"}, {\"credit_id\": \"539c4903c3a368653d001a74\", \"department\": \"Art\", \"gender\": 0, \"id\": 132596, \"job\": \"Art Direction\", \"name\": \"Jill Cormack\"}, {\"credit_id\": \"539c4967c3a368653d001a94\", \"department\": \"Art\", \"gender\": 0, \"id\": 132604, \"job\": \"Art Direction\", \"name\": \"Andy McLaren\"}, {\"credit_id\": \"52fe48009251416c750aca45\", \"department\": \"Crew\", \"gender\": 0, \"id\": 236696, \"job\": \"Motion Capture Artist\", \"name\": \"Terry Notary\"}, {\"credit_id\": \"54959e02c3a3680fc60027d2\", \"department\": \"Crew\", \"gender\": 2, \"id\": 956198, \"job\": \"Stunt Coordinator\", \"name\": \"Garrett Warren\"}, {\"credit_id\": \"54959ca3c3a3686ae300438c\", \"department\": \"Visual Effects\", \"gender\": 2, \"id\": 957874, \"job\": \"Visual Effects Supervisor\", \"name\": \"Jonathan Rothbart\"}, {\"credit_id\": \"570b6f519251412c74001b2f\", \"department\": \"Art\", \"gender\": 0, \"id\": 957889, \"job\": \"Supervising Art Director\", \"name\": \"Stefan Dechant\"}, {\"credit_id\": \"570b6f62c3a3680b77007460\", \"department\": \"Art\", \"gender\": 2, \"id\": 959555, \"job\": \"Supervising Art Director\", \"name\": \"Todd Cherniawsky\"}, {\"credit_id\": \"539c4a3ac3a36810da0021cc\", \"department\": \"Production\", \"gender\": 0, \"id\": 1016177, \"job\": \"Casting\", \"name\": \"Miranda Rivers\"}, {\"credit_id\": \"539c482cc3a36810c1002062\", \"department\": \"Art\", \"gender\": 0, \"id\": 1032536, \"job\": \"Production Design\", \"name\": \"Robert Stromberg\"}, {\"credit_id\": \"539c4b65c3a36810c9002125\", \"department\": \"Costume & Make-Up\", \"gender\": 2, \"id\": 1071680, \"job\": \"Costume Design\", \"name\": \"John Harding\"}, {\"credit_id\": \"54959e6692514130fc002e4e\", \"department\": \"Camera\", \"gender\": 0, \"id\": 1177364, \"job\": \"Steadicam Operator\", \"name\": \"Roberto De Angelis\"}, {\"credit_id\": \"539c49f1c3a368653d001aac\", \"department\": \"Costume & Make-Up\", \"gender\": 2, \"id\": 1202850, \"job\": \"Makeup Department Head\", \"name\": \"Mike Smithson\"}, {\"credit_id\": \"5495999ec3a3686ae100460c\", \"department\": \"Visual Effects\", \"gender\": 0, \"id\": 1204668, \"job\": \"Visual Effects Producer\", \"name\": \"Alain Lalanne\"}, {\"credit_id\": \"54959cdfc3a3681153002729\", \"department\": \"Visual Effects\", \"gender\": 0, \"id\": 1206410, \"job\": \"Visual Effects Supervisor\", \"name\": \"Lucas Salton\"}, {\"credit_id\": \"549596239251417a81001eae\", \"department\": \"Crew\", \"gender\": 0, \"id\": 1234266, \"job\": \"Post Production Supervisor\", \"name\": \"Janace Tashjian\"}, {\"credit_id\": \"54959c859251416e1e003efe\", \"department\": \"Visual Effects\", \"gender\": 0, \"id\": 1271932, \"job\": \"Visual Effects Supervisor\", \"name\": \"Stephen Rosenbaum\"}, {\"credit_id\": \"5592af28c3a368775a00105f\", \"department\": \"Costume & Make-Up\", \"gender\": 0, \"id\": 1310064, \"job\": \"Makeup Artist\", \"name\": \"Frankie Karena\"}, {\"credit_id\": \"539c4adfc3a36810e300203b\", \"department\": \"Costume & Make-Up\", \"gender\": 1, \"id\": 1319844, \"job\": \"Costume Supervisor\", \"name\": \"Lisa Lovaas\"}, {\"credit_id\": \"54959b579251416e2b004371\", \"department\": \"Visual Effects\", \"gender\": 0, \"id\": 1327028, \"job\": \"Visual Effects Supervisor\", \"name\": \"Jonathan Fawkner\"}, {\"credit_id\": \"539c48a7c3a36810b5001fa7\", \"department\": \"Art\", \"gender\": 0, \"id\": 1330561, \"job\": \"Art Direction\", \"name\": \"Robert Bavin\"}, {\"credit_id\": \"539c4a71c3a36810da0021e0\", \"department\": \"Costume & Make-Up\", \"gender\": 0, \"id\": 1330567, \"job\": \"Costume Supervisor\", \"name\": \"Anthony Almaraz\"}, {\"credit_id\": \"539c4a8ac3a36810ba0021e4\", \"department\": \"Costume & Make-Up\", \"gender\": 0, \"id\": 1330570, \"job\": \"Costume Supervisor\", \"name\": \"Carolyn M. Fenton\"}, {\"credit_id\": \"539c4ab6c3a36810da0021f0\", \"department\": \"Costume & Make-Up\", \"gender\": 0, \"id\": 1330574, \"job\": \"Costume Supervisor\", \"name\": \"Beth Koenigsberg\"}, {\"credit_id\": \"54491ab70e0a267480001ba2\", \"department\": \"Art\", \"gender\": 0, \"id\": 1336191, \"job\": \"Set Designer\", \"name\": \"Sam Page\"}, {\"credit_id\": \"544919d9c3a3680fc30018bd\", \"department\": \"Art\", \"gender\": 0, \"id\": 1339441, \"job\": \"Set Designer\", \"name\": \"Tex Kadonaga\"}, {\"credit_id\": \"54491cf50e0a267483001b0c\", \"department\": \"Editing\", \"gender\": 0, \"id\": 1352422, \"job\": \"Dialogue Editor\", \"name\": \"Kim Foscato\"}, {\"credit_id\": \"544919f40e0a26748c001b09\", \"department\": \"Art\", \"gender\": 0, \"id\": 1352962, \"job\": \"Set Designer\", \"name\": \"Tammy S. Lee\"}, {\"credit_id\": \"5495a115c3a3680ff5002d71\", \"department\": \"Crew\", \"gender\": 0, \"id\": 1357070, \"job\": \"Transportation Coordinator\", \"name\": \"Denny Caira\"}, {\"credit_id\": \"5495a12f92514130fc002e94\", \"department\": \"Crew\", \"gender\": 0, \"id\": 1357071, \"job\": \"Transportation Coordinator\", \"name\": \"James Waitkus\"}, {\"credit_id\": \"5495976fc3a36811530026b0\", \"department\": \"Sound\", \"gender\": 0, \"id\": 1360103, \"job\": \"Supervising Sound Editor\", \"name\": \"Addison Teague\"}, {\"credit_id\": \"54491837c3a3680fb1001c5a\", \"department\": \"Art\", \"gender\": 2, \"id\": 1376887, \"job\": \"Set Designer\", \"name\": \"C. Scott Baker\"}, {\"credit_id\": \"54491878c3a3680fb4001c9d\", \"department\": \"Art\", \"gender\": 0, \"id\": 1376888, \"job\": \"Set Designer\", \"name\": \"Luke Caska\"}, {\"credit_id\": \"544918dac3a3680fa5001ae0\", \"department\": \"Art\", \"gender\": 0, \"id\": 1376889, \"job\": \"Set Designer\", \"name\": \"David Chow\"}, {\"credit_id\": \"544919110e0a267486001b68\", \"department\": \"Art\", \"gender\": 0, \"id\": 1376890, \"job\": \"Set Designer\", \"name\": \"Jonathan Dyer\"}, {\"credit_id\": \"54491967c3a3680faa001b5e\", \"department\": \"Art\", \"gender\": 0, \"id\": 1376891, \"job\": \"Set Designer\", \"name\": \"Joseph Hiura\"}, {\"credit_id\": \"54491997c3a3680fb1001c8a\", \"department\": \"Art\", \"gender\": 0, \"id\": 1376892, \"job\": \"Art Department Coordinator\", \"name\": \"Rebecca Jellie\"}, {\"credit_id\": \"544919ba0e0a26748f001b42\", \"department\": \"Art\", \"gender\": 0, \"id\": 1376893, \"job\": \"Set Designer\", \"name\": \"Robert Andrew Johnson\"}, {\"credit_id\": \"54491b1dc3a3680faa001b8c\", \"department\": \"Art\", \"gender\": 0, \"id\": 1376895, \"job\": \"Assistant Art Director\", \"name\": \"Mike Stassi\"}, {\"credit_id\": \"54491b79c3a3680fbb001826\", \"department\": \"Art\", \"gender\": 0, \"id\": 1376897, \"job\": \"Construction Coordinator\", \"name\": \"John Villarino\"}, {\"credit_id\": \"54491baec3a3680fb4001ce6\", \"department\": \"Art\", \"gender\": 2, \"id\": 1376898, \"job\": \"Assistant Art Director\", \"name\": \"Jeffrey Wisniewski\"}, {\"credit_id\": \"54491d2fc3a3680fb4001d07\", \"department\": \"Editing\", \"gender\": 0, \"id\": 1376899, \"job\": \"Dialogue Editor\", \"name\": \"Cheryl Nardi\"}, {\"credit_id\": \"54491d86c3a3680fa5001b2f\", \"department\": \"Editing\", \"gender\": 0, \"id\": 1376901, \"job\": \"Dialogue Editor\", \"name\": \"Marshall Winn\"}, {\"credit_id\": \"54491d9dc3a3680faa001bb0\", \"department\": \"Sound\", \"gender\": 0, \"id\": 1376902, \"job\": \"Supervising Sound Editor\", \"name\": \"Gwendolyn Yates Whittle\"}, {\"credit_id\": \"54491dc10e0a267486001bce\", \"department\": \"Sound\", \"gender\": 0, \"id\": 1376903, \"job\": \"Sound Re-Recording Mixer\", \"name\": \"William Stein\"}, {\"credit_id\": \"54491f500e0a26747c001c07\", \"department\": \"Crew\", \"gender\": 0, \"id\": 1376909, \"job\": \"Choreographer\", \"name\": \"Lula Washington\"}, {\"credit_id\": \"549599239251412c4e002a2e\", \"department\": \"Visual Effects\", \"gender\": 0, \"id\": 1391692, \"job\": \"Visual Effects Producer\", \"name\": \"Chris Del Conte\"}, {\"credit_id\": \"54959d54c3a36831b8001d9a\", \"department\": \"Visual Effects\", \"gender\": 2, \"id\": 1391695, \"job\": \"Visual Effects Supervisor\", \"name\": \"R. Christopher White\"}, {\"credit_id\": \"54959bdf9251412c4e002a66\", \"department\": \"Visual Effects\", \"gender\": 0, \"id\": 1394070, \"job\": \"Visual Effects Supervisor\", \"name\": \"Dan Lemmon\"}, {\"credit_id\": \"5495971d92514132ed002922\", \"department\": \"Sound\", \"gender\": 0, \"id\": 1394129, \"job\": \"Sound Effects Editor\", \"name\": \"Tim Nielsen\"}, {\"credit_id\": \"5592b25792514152cc0011aa\", \"department\": \"Crew\", \"gender\": 0, \"id\": 1394286, \"job\": \"CG Supervisor\", \"name\": \"Michael Mulholland\"}, {\"credit_id\": \"54959a329251416e2b004355\", \"department\": \"Crew\", \"gender\": 0, \"id\": 1394750, \"job\": \"Visual Effects Editor\", \"name\": \"Thomas Nittmann\"}, {\"credit_id\": \"54959d6dc3a3686ae9004401\", \"department\": \"Visual Effects\", \"gender\": 0, \"id\": 1394755, \"job\": \"Visual Effects Supervisor\", \"name\": \"Edson Williams\"}, {\"credit_id\": \"5495a08fc3a3686ae300441c\", \"department\": \"Editing\", \"gender\": 0, \"id\": 1394953, \"job\": \"Digital Intermediate\", \"name\": \"Christine Carr\"}, {\"credit_id\": \"55402d659251413d6d000249\", \"department\": \"Visual Effects\", \"gender\": 0, \"id\": 1395269, \"job\": \"Visual Effects Supervisor\", \"name\": \"John Bruno\"}, {\"credit_id\": \"54959e7b9251416e1e003f3e\", \"department\": \"Camera\", \"gender\": 0, \"id\": 1398970, \"job\": \"Steadicam Operator\", \"name\": \"David Emmerichs\"}, {\"credit_id\": \"54959734c3a3686ae10045e0\", \"department\": \"Sound\", \"gender\": 0, \"id\": 1400906, \"job\": \"Sound Effects Editor\", \"name\": \"Christopher Scarabosio\"}, {\"credit_id\": \"549595dd92514130fc002d79\", \"department\": \"Production\", \"gender\": 0, \"id\": 1401784, \"job\": \"Production Supervisor\", \"name\": \"Jennifer Teves\"}, {\"credit_id\": \"549596009251413af70028cc\", \"department\": \"Production\", \"gender\": 0, \"id\": 1401785, \"job\": \"Production Manager\", \"name\": \"Brigitte Yorke\"}, {\"credit_id\": \"549596e892514130fc002d99\", \"department\": \"Sound\", \"gender\": 0, \"id\": 1401786, \"job\": \"Sound Effects Editor\", \"name\": \"Ken Fischer\"}, {\"credit_id\": \"549598229251412c4e002a1c\", \"department\": \"Crew\", \"gender\": 0, \"id\": 1401787, \"job\": \"Special Effects Coordinator\", \"name\": \"Iain Hutton\"}, {\"credit_id\": \"549598349251416e2b00432b\", \"department\": \"Crew\", \"gender\": 0, \"id\": 1401788, \"job\": \"Special Effects Coordinator\", \"name\": \"Steve Ingram\"}, {\"credit_id\": \"54959905c3a3686ae3004324\", \"department\": \"Visual Effects\", \"gender\": 0, \"id\": 1401789, \"job\": \"Visual Effects Producer\", \"name\": \"Joyce Cox\"}, {\"credit_id\": \"5495994b92514132ed002951\", \"department\": \"Visual Effects\", \"gender\": 0, \"id\": 1401790, \"job\": \"Visual Effects Producer\", \"name\": \"Jenny Foster\"}, {\"credit_id\": \"549599cbc3a3686ae1004613\", \"department\": \"Crew\", \"gender\": 0, \"id\": 1401791, \"job\": \"Visual Effects Editor\", \"name\": \"Christopher Marino\"}, {\"credit_id\": \"549599f2c3a3686ae100461e\", \"department\": \"Crew\", \"gender\": 0, \"id\": 1401792, \"job\": \"Visual Effects Editor\", \"name\": \"Jim Milton\"}, {\"credit_id\": \"54959a51c3a3686af3003eb5\", \"department\": \"Visual Effects\", \"gender\": 0, \"id\": 1401793, \"job\": \"Visual Effects Producer\", \"name\": \"Cyndi Ochs\"}, {\"credit_id\": \"54959a7cc3a36811530026f4\", \"department\": \"Crew\", \"gender\": 0, \"id\": 1401794, \"job\": \"Visual Effects Editor\", \"name\": \"Lucas Putnam\"}, {\"credit_id\": \"54959b91c3a3680ff5002cb4\", \"department\": \"Visual Effects\", \"gender\": 0, \"id\": 1401795, \"job\": \"Visual Effects Supervisor\", \"name\": \"Anthony \\'Max\\' Ivins\"}, {\"credit_id\": \"54959bb69251412c4e002a5f\", \"department\": \"Visual Effects\", \"gender\": 0, \"id\": 1401796, \"job\": \"Visual Effects Supervisor\", \"name\": \"John Knoll\"}, {\"credit_id\": \"54959cbbc3a3686ae3004391\", \"department\": \"Visual Effects\", \"gender\": 2, \"id\": 1401799, \"job\": \"Visual Effects Supervisor\", \"name\": \"Eric Saindon\"}, {\"credit_id\": \"54959d06c3a3686ae90043f6\", \"department\": \"Visual Effects\", \"gender\": 0, \"id\": 1401800, \"job\": \"Visual Effects Supervisor\", \"name\": \"Wayne Stables\"}, {\"credit_id\": \"54959d259251416e1e003f11\", \"department\": \"Visual Effects\", \"gender\": 0, \"id\": 1401801, \"job\": \"Visual Effects Supervisor\", \"name\": \"David Stinnett\"}, {\"credit_id\": \"54959db49251413af7002975\", \"department\": \"Visual Effects\", \"gender\": 0, \"id\": 1401803, \"job\": \"Visual Effects Supervisor\", \"name\": \"Guy Williams\"}, {\"credit_id\": \"54959de4c3a3681153002750\", \"department\": \"Crew\", \"gender\": 0, \"id\": 1401804, \"job\": \"Stunt Coordinator\", \"name\": \"Stuart Thorp\"}, {\"credit_id\": \"54959ef2c3a3680fc60027f2\", \"department\": \"Lighting\", \"gender\": 0, \"id\": 1401805, \"job\": \"Best Boy Electric\", \"name\": \"Giles Coburn\"}, {\"credit_id\": \"54959f07c3a3680fc60027f9\", \"department\": \"Camera\", \"gender\": 2, \"id\": 1401806, \"job\": \"Still Photographer\", \"name\": \"Mark Fellman\"}, {\"credit_id\": \"54959f47c3a3681153002774\", \"department\": \"Lighting\", \"gender\": 0, \"id\": 1401807, \"job\": \"Lighting Technician\", \"name\": \"Scott Sprague\"}, {\"credit_id\": \"54959f8cc3a36831b8001df2\", \"department\": \"Visual Effects\", \"gender\": 0, \"id\": 1401808, \"job\": \"Animation Director\", \"name\": \"Jeremy Hollobon\"}, {\"credit_id\": \"54959fa0c3a36831b8001dfb\", \"department\": \"Visual Effects\", \"gender\": 0, \"id\": 1401809, \"job\": \"Animation Director\", \"name\": \"Orlando Meunier\"}, {\"credit_id\": \"54959fb6c3a3686af3003f54\", \"department\": \"Visual Effects\", \"gender\": 0, \"id\": 1401810, \"job\": \"Animation Director\", \"name\": \"Taisuke Tanimura\"}, {\"credit_id\": \"54959fd2c3a36831b8001e02\", \"department\": \"Costume & Make-Up\", \"gender\": 0, \"id\": 1401812, \"job\": \"Set Costumer\", \"name\": \"Lilia Mishel Acevedo\"}, {\"credit_id\": \"54959ff9c3a3686ae300440c\", \"department\": \"Costume & Make-Up\", \"gender\": 0, \"id\": 1401814, \"job\": \"Set Costumer\", \"name\": \"Alejandro M. Hernandez\"}, {\"credit_id\": \"5495a0ddc3a3686ae10046fe\", \"department\": \"Editing\", \"gender\": 0, \"id\": 1401815, \"job\": \"Digital Intermediate\", \"name\": \"Marvin Hall\"}, {\"credit_id\": \"5495a1f7c3a3686ae3004443\", \"department\": \"Production\", \"gender\": 0, \"id\": 1401816, \"job\": \"Publicist\", \"name\": \"Judy Alley\"}, {\"credit_id\": \"5592b29fc3a36869d100002f\", \"department\": \"Crew\", \"gender\": 0, \"id\": 1418381, \"job\": \"CG Supervisor\", \"name\": \"Mike Perry\"}, {\"credit_id\": \"5592b23a9251415df8001081\", \"department\": \"Crew\", \"gender\": 0, \"id\": 1426854, \"job\": \"CG Supervisor\", \"name\": \"Andrew Morley\"}, {\"credit_id\": \"55491e1192514104c40002d8\", \"department\": \"Art\", \"gender\": 0, \"id\": 1438901, \"job\": \"Conceptual Design\", \"name\": \"Seth Engstrom\"}, {\"credit_id\": \"5525d5809251417276002b06\", \"department\": \"Crew\", \"gender\": 0, \"id\": 1447362, \"job\": \"Visual Effects Art Director\", \"name\": \"Eric Oliver\"}, {\"credit_id\": \"554427ca925141586500312a\", \"department\": \"Visual Effects\", \"gender\": 0, \"id\": 1447503, \"job\": \"Modeling\", \"name\": \"Matsune Suzuki\"}, {\"credit_id\": \"551906889251415aab001c88\", \"department\": \"Art\", \"gender\": 0, \"id\": 1447524, \"job\": \"Art Department Manager\", \"name\": \"Paul Tobin\"}, {\"credit_id\": \"5592af8492514152cc0010de\", \"department\": \"Costume & Make-Up\", \"gender\": 0, \"id\": 1452643, \"job\": \"Hairstylist\", \"name\": \"Roxane Griffin\"}, {\"credit_id\": \"553d3c109251415852001318\", \"department\": \"Lighting\", \"gender\": 0, \"id\": 1453938, \"job\": \"Lighting Artist\", \"name\": \"Arun Ram-Mohan\"}, {\"credit_id\": \"5592af4692514152d5001355\", \"department\": \"Costume & Make-Up\", \"gender\": 0, \"id\": 1457305, \"job\": \"Makeup Artist\", \"name\": \"Georgia Lockhart-Adams\"}, {\"credit_id\": \"5592b2eac3a36877470012a5\", \"department\": \"Crew\", \"gender\": 0, \"id\": 1466035, \"job\": \"CG Supervisor\", \"name\": \"Thrain Shadbolt\"}, {\"credit_id\": \"5592b032c3a36877450015f1\", \"department\": \"Crew\", \"gender\": 0, \"id\": 1483220, \"job\": \"CG Supervisor\", \"name\": \"Brad Alexander\"}, {\"credit_id\": \"5592b05592514152d80012f6\", \"department\": \"Crew\", \"gender\": 0, \"id\": 1483221, \"job\": \"CG Supervisor\", \"name\": \"Shadi Almassizadeh\"}, {\"credit_id\": \"5592b090c3a36877570010b5\", \"department\": \"Crew\", \"gender\": 0, \"id\": 1483222, \"job\": \"CG Supervisor\", \"name\": \"Simon Clutterbuck\"}, {\"credit_id\": \"5592b0dbc3a368774b00112c\", \"department\": \"Crew\", \"gender\": 0, \"id\": 1483223, \"job\": \"CG Supervisor\", \"name\": \"Graeme Demmocks\"}, {\"credit_id\": \"5592b0fe92514152db0010c1\", \"department\": \"Crew\", \"gender\": 0, \"id\": 1483224, \"job\": \"CG Supervisor\", \"name\": \"Adrian Fernandes\"}, {\"credit_id\": \"5592b11f9251415df8001059\", \"department\": \"Crew\", \"gender\": 0, \"id\": 1483225, \"job\": \"CG Supervisor\", \"name\": \"Mitch Gates\"}, {\"credit_id\": \"5592b15dc3a3687745001645\", \"department\": \"Crew\", \"gender\": 0, \"id\": 1483226, \"job\": \"CG Supervisor\", \"name\": \"Jerry Kung\"}, {\"credit_id\": \"5592b18e925141645a0004ae\", \"department\": \"Crew\", \"gender\": 0, \"id\": 1483227, \"job\": \"CG Supervisor\", \"name\": \"Andy Lomas\"}, {\"credit_id\": \"5592b1bfc3a368775d0010e7\", \"department\": \"Crew\", \"gender\": 0, \"id\": 1483228, \"job\": \"CG Supervisor\", \"name\": \"Sebastian Marino\"}, {\"credit_id\": \"5592b2049251415df8001078\", \"department\": \"Crew\", \"gender\": 0, \"id\": 1483229, \"job\": \"CG Supervisor\", \"name\": \"Matthias Menz\"}, {\"credit_id\": \"5592b27b92514152d800136a\", \"department\": \"Crew\", \"gender\": 0, \"id\": 1483230, \"job\": \"CG Supervisor\", \"name\": \"Sergei Nevshupov\"}, {\"credit_id\": \"5592b2c3c3a36869e800003c\", \"department\": \"Crew\", \"gender\": 0, \"id\": 1483231, \"job\": \"CG Supervisor\", \"name\": \"Philippe Rebours\"}, {\"credit_id\": \"5592b317c3a36877470012af\", \"department\": \"Crew\", \"gender\": 0, \"id\": 1483232, \"job\": \"CG Supervisor\", \"name\": \"Michael Takarangi\"}, {\"credit_id\": \"5592b345c3a36877470012bb\", \"department\": \"Crew\", \"gender\": 0, \"id\": 1483233, \"job\": \"CG Supervisor\", \"name\": \"David Weitzberg\"}, {\"credit_id\": \"5592b37cc3a368775100113b\", \"department\": \"Crew\", \"gender\": 0, \"id\": 1483234, \"job\": \"CG Supervisor\", \"name\": \"Ben White\"}, {\"credit_id\": \"573c8e2f9251413f5d000094\", \"department\": \"Crew\", \"gender\": 1, \"id\": 1621932, \"job\": \"Stunts\", \"name\": \"Min Windle\"}]'"
      ]
     },
     "execution_count": 21,
     "metadata": {},
     "output_type": "execute_result"
    }
   ],
   "source": [
    "movies.loc[0,'crew']"
   ]
  },
  {
   "cell_type": "code",
   "execution_count": 24,
   "id": "958aeeca",
   "metadata": {},
   "outputs": [],
   "source": [
    "def stringprocessor(string):\n",
    "    ls=[]\n",
    "    for i in ast.literal_eval(string):\n",
    "        ls.append(i[\"name\"])\n",
    "    return ls"
   ]
  },
  {
   "cell_type": "code",
   "execution_count": 26,
   "id": "09e5a075",
   "metadata": {},
   "outputs": [],
   "source": [
    "movies.loc[:,'genres']=movies.loc[:,'genres'].apply(stringprocessor) #Fetching Genres"
   ]
  },
  {
   "cell_type": "code",
   "execution_count": 27,
   "id": "f6989d1c",
   "metadata": {},
   "outputs": [],
   "source": [
    "movies.loc[:,'keywords']=movies.loc[:,'keywords'].apply(stringprocessor) #Processing Keywords"
   ]
  },
  {
   "cell_type": "code",
   "execution_count": 23,
   "id": "167428d0",
   "metadata": {},
   "outputs": [],
   "source": [
    "# Top 3 important cast of film like Hero,Heroine,Vilain\n",
    "def castprocessor(string):\n",
    "    ls=[]\n",
    "    for i in ast.literal_eval(string):\n",
    "        if(len(ls)<3):\n",
    "            ls.append(i[\"name\"])\n",
    "        else:\n",
    "            break\n",
    "    return ls"
   ]
  },
  {
   "cell_type": "code",
   "execution_count": 28,
   "id": "259c5a9c",
   "metadata": {},
   "outputs": [],
   "source": [
    "movies.loc[:,'cast']=movies.loc[:,'cast'].apply(castprocessor)"
   ]
  },
  {
   "cell_type": "code",
   "execution_count": 29,
   "id": "84228965",
   "metadata": {
    "scrolled": true
   },
   "outputs": [],
   "source": [
    "#Featching Director \n",
    "def crewprocessor(string):\n",
    "    ls=[]\n",
    "    for i in ast.literal_eval(string):\n",
    "        if(i[\"job\"]=='Director'):\n",
    "            ls.append(i[\"name\"])\n",
    "            break\n",
    "    return ls"
   ]
  },
  {
   "cell_type": "code",
   "execution_count": 30,
   "id": "9af5ef02",
   "metadata": {},
   "outputs": [],
   "source": [
    "movies.loc[:,'crew']=movies.loc[:,'crew'].apply(crewprocessor)"
   ]
  },
  {
   "cell_type": "code",
   "execution_count": 31,
   "id": "0379c48d",
   "metadata": {},
   "outputs": [],
   "source": [
    "movies.loc[:,'overview']=movies.loc[:,'overview'].apply(lambda x:x.split()) #string to list to vectorize the words"
   ]
  },
  {
   "cell_type": "code",
   "execution_count": 32,
   "id": "92867be3",
   "metadata": {},
   "outputs": [],
   "source": [
    "#Processing text for vectorization.\n",
    "def whitespaceremoval(movies,features):\n",
    "    for feature in features:\n",
    "        movies[feature]=movies[feature].apply(lambda x: [i.replace(\" \",\"\") for i in x])"
   ]
  },
  {
   "cell_type": "code",
   "execution_count": 33,
   "id": "4a44f0e8",
   "metadata": {},
   "outputs": [],
   "source": [
    "whitespaceremoval(movies,['genres','overview','keywords','cast','crew'])"
   ]
  },
  {
   "cell_type": "code",
   "execution_count": 34,
   "id": "d9b18e56",
   "metadata": {},
   "outputs": [
    {
     "data": {
      "text/html": [
       "<div>\n",
       "<style scoped>\n",
       "    .dataframe tbody tr th:only-of-type {\n",
       "        vertical-align: middle;\n",
       "    }\n",
       "\n",
       "    .dataframe tbody tr th {\n",
       "        vertical-align: top;\n",
       "    }\n",
       "\n",
       "    .dataframe thead th {\n",
       "        text-align: right;\n",
       "    }\n",
       "</style>\n",
       "<table border=\"1\" class=\"dataframe\">\n",
       "  <thead>\n",
       "    <tr style=\"text-align: right;\">\n",
       "      <th></th>\n",
       "      <th>genres</th>\n",
       "      <th>original_title</th>\n",
       "      <th>id</th>\n",
       "      <th>overview</th>\n",
       "      <th>keywords</th>\n",
       "      <th>cast</th>\n",
       "      <th>crew</th>\n",
       "    </tr>\n",
       "  </thead>\n",
       "  <tbody>\n",
       "    <tr>\n",
       "      <th>0</th>\n",
       "      <td>[Action, Adventure, Fantasy, ScienceFiction]</td>\n",
       "      <td>Avatar</td>\n",
       "      <td>19995</td>\n",
       "      <td>[In, the, 22nd, century,, a, paraplegic, Marin...</td>\n",
       "      <td>[cultureclash, future, spacewar, spacecolony, ...</td>\n",
       "      <td>[SamWorthington, ZoeSaldana, SigourneyWeaver]</td>\n",
       "      <td>[JamesCameron]</td>\n",
       "    </tr>\n",
       "  </tbody>\n",
       "</table>\n",
       "</div>"
      ],
      "text/plain": [
       "                                         genres original_title     id  \\\n",
       "0  [Action, Adventure, Fantasy, ScienceFiction]         Avatar  19995   \n",
       "\n",
       "                                            overview  \\\n",
       "0  [In, the, 22nd, century,, a, paraplegic, Marin...   \n",
       "\n",
       "                                            keywords  \\\n",
       "0  [cultureclash, future, spacewar, spacecolony, ...   \n",
       "\n",
       "                                            cast            crew  \n",
       "0  [SamWorthington, ZoeSaldana, SigourneyWeaver]  [JamesCameron]  "
      ]
     },
     "execution_count": 34,
     "metadata": {},
     "output_type": "execute_result"
    }
   ],
   "source": [
    "movies.head(1)"
   ]
  },
  {
   "cell_type": "code",
   "execution_count": 35,
   "id": "b960236a",
   "metadata": {},
   "outputs": [],
   "source": [
    "movies.loc[:,'tags']=movies.loc[:,'overview']+movies.loc[:,'genres']+movies.loc[:,'keywords']+movies.loc[:,'cast']+movies.loc[:,'crew']"
   ]
  },
  {
   "cell_type": "code",
   "execution_count": 36,
   "id": "837ea87e",
   "metadata": {},
   "outputs": [],
   "source": [
    "movies.rename(columns={\"id\":\"movie_id\",\"original_title\":\"title\"},inplace=True)"
   ]
  },
  {
   "cell_type": "code",
   "execution_count": 37,
   "id": "f72ee6c2",
   "metadata": {},
   "outputs": [],
   "source": [
    "new_df=movies[['movie_id','title','tags']]"
   ]
  },
  {
   "cell_type": "code",
   "execution_count": 39,
   "id": "1048279f",
   "metadata": {
    "scrolled": true
   },
   "outputs": [
    {
     "data": {
      "text/plain": [
       "['In',\n",
       " 'the',\n",
       " '22nd',\n",
       " 'century,',\n",
       " 'a',\n",
       " 'paraplegic',\n",
       " 'Marine',\n",
       " 'is',\n",
       " 'dispatched',\n",
       " 'to',\n",
       " 'the',\n",
       " 'moon',\n",
       " 'Pandora',\n",
       " 'on',\n",
       " 'a',\n",
       " 'unique',\n",
       " 'mission,',\n",
       " 'but',\n",
       " 'becomes',\n",
       " 'torn',\n",
       " 'between',\n",
       " 'following',\n",
       " 'orders',\n",
       " 'and',\n",
       " 'protecting',\n",
       " 'an',\n",
       " 'alien',\n",
       " 'civilization.',\n",
       " 'Action',\n",
       " 'Adventure',\n",
       " 'Fantasy',\n",
       " 'ScienceFiction',\n",
       " 'cultureclash',\n",
       " 'future',\n",
       " 'spacewar',\n",
       " 'spacecolony',\n",
       " 'society',\n",
       " 'spacetravel',\n",
       " 'futuristic',\n",
       " 'romance',\n",
       " 'space',\n",
       " 'alien',\n",
       " 'tribe',\n",
       " 'alienplanet',\n",
       " 'cgi',\n",
       " 'marine',\n",
       " 'soldier',\n",
       " 'battle',\n",
       " 'loveaffair',\n",
       " 'antiwar',\n",
       " 'powerrelations',\n",
       " 'mindandsoul',\n",
       " '3d',\n",
       " 'SamWorthington',\n",
       " 'ZoeSaldana',\n",
       " 'SigourneyWeaver',\n",
       " 'JamesCameron']"
      ]
     },
     "execution_count": 39,
     "metadata": {},
     "output_type": "execute_result"
    }
   ],
   "source": [
    "new_df['tags'][0]"
   ]
  },
  {
   "cell_type": "code",
   "execution_count": 38,
   "id": "2cb963f9",
   "metadata": {},
   "outputs": [
    {
     "name": "stderr",
     "output_type": "stream",
     "text": [
      "C:\\Users\\Sathya Sai\\AppData\\Local\\Temp\\ipykernel_10988\\3868655501.py:1: SettingWithCopyWarning: \n",
      "A value is trying to be set on a copy of a slice from a DataFrame.\n",
      "Try using .loc[row_indexer,col_indexer] = value instead\n",
      "\n",
      "See the caveats in the documentation: https://pandas.pydata.org/pandas-docs/stable/user_guide/indexing.html#returning-a-view-versus-a-copy\n",
      "  new_df.loc[:,'tags']=new_df.loc[:,'tags'].apply(lambda x: \" \".join(x))\n"
     ]
    }
   ],
   "source": [
    "new_df.loc[:,'tags']=new_df.loc[:,'tags'].apply(lambda x: \" \".join(x))"
   ]
  },
  {
   "cell_type": "code",
   "execution_count": 39,
   "id": "608626ed",
   "metadata": {},
   "outputs": [
    {
     "data": {
      "text/plain": [
       "'In the 22nd century, a paraplegic Marine is dispatched to the moon Pandora on a unique mission, but becomes torn between following orders and protecting an alien civilization. Action Adventure Fantasy ScienceFiction cultureclash future spacewar spacecolony society spacetravel futuristic romance space alien tribe alienplanet cgi marine soldier battle loveaffair antiwar powerrelations mindandsoul 3d SamWorthington ZoeSaldana SigourneyWeaver JamesCameron'"
      ]
     },
     "execution_count": 39,
     "metadata": {},
     "output_type": "execute_result"
    }
   ],
   "source": [
    "new_df['tags'][0]"
   ]
  },
  {
   "cell_type": "markdown",
   "id": "fd8c3b89",
   "metadata": {},
   "source": [
    "#Stemming"
   ]
  },
  {
   "cell_type": "code",
   "execution_count": 40,
   "id": "f8953d72",
   "metadata": {},
   "outputs": [],
   "source": [
    "from nltk.stem.porter import PorterStemmer\n",
    "stemmer=PorterStemmer()"
   ]
  },
  {
   "cell_type": "code",
   "execution_count": 41,
   "id": "4b769298",
   "metadata": {},
   "outputs": [],
   "source": [
    "def stemming(text):\n",
    "    ls=[]\n",
    "    for i in text.split():\n",
    "        ls.append(stemmer.stem(i))\n",
    "    return str(\" \".join(ls))"
   ]
  },
  {
   "cell_type": "code",
   "execution_count": 42,
   "id": "47b8e151",
   "metadata": {},
   "outputs": [
    {
     "name": "stderr",
     "output_type": "stream",
     "text": [
      "C:\\Users\\Sathya Sai\\AppData\\Local\\Temp\\ipykernel_10988\\2622027044.py:1: SettingWithCopyWarning: \n",
      "A value is trying to be set on a copy of a slice from a DataFrame.\n",
      "Try using .loc[row_indexer,col_indexer] = value instead\n",
      "\n",
      "See the caveats in the documentation: https://pandas.pydata.org/pandas-docs/stable/user_guide/indexing.html#returning-a-view-versus-a-copy\n",
      "  new_df.loc[:,'tags']=new_df.loc[:,'tags'].apply(stemming)\n"
     ]
    }
   ],
   "source": [
    "new_df.loc[:,'tags']=new_df.loc[:,'tags'].apply(stemming)"
   ]
  },
  {
   "cell_type": "code",
   "execution_count": 97,
   "id": "64be22df",
   "metadata": {},
   "outputs": [],
   "source": [
    "from sklearn.feature_extraction.text import CountVectorizer\n",
    "cv=CountVectorizer(max_features=5000,stop_words='english')"
   ]
  },
  {
   "cell_type": "code",
   "execution_count": 98,
   "id": "5bebcf1d",
   "metadata": {},
   "outputs": [],
   "source": [
    "vectors=cv.fit(new_df['tags'])"
   ]
  },
  {
   "cell_type": "code",
   "execution_count": 99,
   "id": "d3d8227c",
   "metadata": {},
   "outputs": [],
   "source": [
    "v=cv.transform(new_df['tags']).toarray()# v_2,v_3,v_4,v_6 for 2000,3000,4000,6000 size of bag"
   ]
  },
  {
   "cell_type": "code",
   "execution_count": 100,
   "id": "fc99eb59",
   "metadata": {},
   "outputs": [
    {
     "data": {
      "text/plain": [
       "array(['000', '007', '10', ..., 'zone', 'zoo', 'zooeydeschanel'],\n",
       "      dtype=object)"
      ]
     },
     "execution_count": 100,
     "metadata": {},
     "output_type": "execute_result"
    }
   ],
   "source": [
    "cv.get_feature_names_out()"
   ]
  },
  {
   "cell_type": "markdown",
   "id": "8da9d9b6",
   "metadata": {},
   "source": [
    "#cosine similarity as a distance metric"
   ]
  },
  {
   "cell_type": "code",
   "execution_count": 101,
   "id": "9e8bfc93",
   "metadata": {},
   "outputs": [],
   "source": [
    "from sklearn.metrics.pairwise import cosine_similarity"
   ]
  },
  {
   "cell_type": "code",
   "execution_count": 102,
   "id": "d62182c1",
   "metadata": {},
   "outputs": [],
   "source": [
    "similarity=cosine_similarity(v) #4806 movies * 4806 hence diagonal is always 1 as the movie is similar to itself"
   ]
  },
  {
   "cell_type": "code",
   "execution_count": 103,
   "id": "cf26500d",
   "metadata": {},
   "outputs": [],
   "source": [
    "# neglecting first one as it is the similarity of movie with itself\n",
    "def recommend(movie):\n",
    "    movie_index = fetch_index(movie)\n",
    "    distances = similarity[movie_index]\n",
    "    movie_list = sorted(list(enumerate(similarity[movie_index])),reverse=True,key=lambda x:x[1])[1:6]\n",
    "    \n",
    "    for i in movie_list:\n",
    "        print(i)#new_df.loc[i[0]].title)"
   ]
  },
  {
   "cell_type": "code",
   "execution_count": 104,
   "id": "436dfb75",
   "metadata": {},
   "outputs": [],
   "source": [
    "def fetch_index(movie):\n",
    "    return new_df[new_df['title']==movie].index[0]"
   ]
  },
  {
   "cell_type": "code",
   "execution_count": 105,
   "id": "4e9e9db3",
   "metadata": {},
   "outputs": [
    {
     "name": "stdout",
     "output_type": "stream",
     "text": [
      "(3668, 0.352999001317108)\n",
      "(3382, 0.3527378107513293)\n",
      "(4148, 0.3519947346980235)\n",
      "(4448, 0.3457522118951093)\n",
      "(3676, 0.32867462139886605)\n"
     ]
    }
   ],
   "source": [
    "recommend('Prisoners')"
   ]
  },
  {
   "cell_type": "markdown",
   "id": "55a8528d",
   "metadata": {},
   "source": [
    "#testing different dimensions."
   ]
  },
  {
   "cell_type": "code",
   "execution_count": 106,
   "id": "c27a9482",
   "metadata": {},
   "outputs": [],
   "source": [
    "similarity_2=cosine_similarity(v_2)"
   ]
  },
  {
   "cell_type": "code",
   "execution_count": 107,
   "id": "dac0737f",
   "metadata": {},
   "outputs": [],
   "source": [
    "# neglecting first one as it is the similarity of movie with itself\n",
    "def recommend_2(movie):\n",
    "    movie_index = fetch_index(movie)\n",
    "    distances = similarity_2[movie_index]\n",
    "    movie_list = sorted(list(enumerate(similarity_2[movie_index])),reverse=True,key=lambda x:x[1])[1:6]\n",
    "    \n",
    "    for i in movie_list:\n",
    "        print(i)#new_df.loc[i[0]].title)"
   ]
  },
  {
   "cell_type": "code",
   "execution_count": 108,
   "id": "3088cb14",
   "metadata": {},
   "outputs": [
    {
     "name": "stdout",
     "output_type": "stream",
     "text": [
      "(3382, 0.4219265078446459)\n",
      "(4148, 0.3933978962347216)\n",
      "(3000, 0.39291263899287066)\n",
      "(3668, 0.3922322702763681)\n",
      "(4448, 0.3891558912470781)\n"
     ]
    }
   ],
   "source": [
    "recommend_2('Prisoners')"
   ]
  },
  {
   "cell_type": "code",
   "execution_count": 109,
   "id": "7ed1c46a",
   "metadata": {},
   "outputs": [],
   "source": [
    "similarity_3=cosine_similarity(v_3)"
   ]
  },
  {
   "cell_type": "code",
   "execution_count": 110,
   "id": "219cbcab",
   "metadata": {},
   "outputs": [],
   "source": [
    "# neglecting first one as it is the similarity of movie with itself\n",
    "def recommend_3(movie):\n",
    "    movie_index = fetch_index(movie)\n",
    "    distances = similarity_3[movie_index]\n",
    "    movie_list = sorted(list(enumerate(similarity_3[movie_index])),reverse=True,key=lambda x:x[1])[1:6]\n",
    "    \n",
    "    for i in movie_list:\n",
    "        print(i)#new_df.loc[i[0]].title)"
   ]
  },
  {
   "cell_type": "code",
   "execution_count": 111,
   "id": "b898bed7",
   "metadata": {},
   "outputs": [
    {
     "name": "stdout",
     "output_type": "stream",
     "text": [
      "(3382, 0.3954372976473721)\n",
      "(4148, 0.3746537715077527)\n",
      "(3668, 0.3735693878397507)\n",
      "(3000, 0.37346855888918473)\n",
      "(4448, 0.36847776333038806)\n"
     ]
    }
   ],
   "source": [
    "recommend_3('Prisoners') # 3000 dimension vectors are doing better"
   ]
  },
  {
   "cell_type": "code",
   "execution_count": 112,
   "id": "164150e9",
   "metadata": {},
   "outputs": [],
   "source": [
    "similarity_4=cosine_similarity(v_4)"
   ]
  },
  {
   "cell_type": "code",
   "execution_count": 113,
   "id": "4c6982f0",
   "metadata": {},
   "outputs": [],
   "source": [
    "# neglecting first one as it is the similarity of movie with itself\n",
    "def recommend_4(movie):\n",
    "    movie_index = fetch_index(movie)\n",
    "    distances = similarity_4[movie_index]\n",
    "    movie_list = sorted(list(enumerate(similarity_4[movie_index])),reverse=True,key=lambda x:x[1])[1:6]\n",
    "    \n",
    "    for i in movie_list:\n",
    "        print(i)#new_df.loc[i[0]].title)"
   ]
  },
  {
   "cell_type": "code",
   "execution_count": 114,
   "id": "34d12ede",
   "metadata": {},
   "outputs": [
    {
     "name": "stdout",
     "output_type": "stream",
     "text": [
      "(3382, 0.36144869800612456)\n",
      "(4148, 0.35606417318210487)\n",
      "(3668, 0.352999001317108)\n",
      "(3000, 0.34795470382103705)\n",
      "(4448, 0.3457522118951093)\n"
     ]
    }
   ],
   "source": [
    "recommend_4('Prisoners') # 3000 dimension vectors are doing better"
   ]
  },
  {
   "cell_type": "markdown",
   "id": "9f6b083c",
   "metadata": {},
   "source": [
    "#OBSERVATION: 2000 dimension vectors are doing better but this may result in wrong recommendations for new movies.Therefore using 3000 dimension vector."
   ]
  },
  {
   "cell_type": "code",
   "execution_count": 115,
   "id": "be40bb96",
   "metadata": {},
   "outputs": [],
   "source": [
    "import pickle"
   ]
  },
  {
   "cell_type": "code",
   "execution_count": 116,
   "id": "fb47929a",
   "metadata": {},
   "outputs": [],
   "source": [
    "pickle.dump(new_df,open('movies.pkl','wb'))"
   ]
  },
  {
   "cell_type": "code",
   "execution_count": 117,
   "id": "35766b0f",
   "metadata": {},
   "outputs": [],
   "source": [
    "pickle.dump(new_df.to_dict(),open('movie_dict.pkl','wb'))"
   ]
  },
  {
   "cell_type": "code",
   "execution_count": 118,
   "id": "318011ab",
   "metadata": {},
   "outputs": [],
   "source": [
    "pickle.dump(similarity_3,open('similarity.pkl','wb'))"
   ]
  },
  {
   "cell_type": "code",
   "execution_count": 120,
   "id": "e8f1e1cc",
   "metadata": {},
   "outputs": [
    {
     "data": {
      "text/plain": [
       "(4806, 4806)"
      ]
     },
     "execution_count": 120,
     "metadata": {},
     "output_type": "execute_result"
    }
   ],
   "source": [
    "similarity_3.shape"
   ]
  },
  {
   "cell_type": "code",
   "execution_count": null,
   "id": "5d26bf2e",
   "metadata": {},
   "outputs": [],
   "source": []
  }
 ],
 "metadata": {
  "kernelspec": {
   "display_name": "Python 3 (ipykernel)",
   "language": "python",
   "name": "python3"
  },
  "language_info": {
   "codemirror_mode": {
    "name": "ipython",
    "version": 3
   },
   "file_extension": ".py",
   "mimetype": "text/x-python",
   "name": "python",
   "nbconvert_exporter": "python",
   "pygments_lexer": "ipython3",
   "version": "3.9.13"
  }
 },
 "nbformat": 4,
 "nbformat_minor": 5
}
